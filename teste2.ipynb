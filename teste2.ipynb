{
 "cells": [
  {
   "cell_type": "code",
   "execution_count": 2,
   "metadata": {},
   "outputs": [
    {
     "data": {
      "text/plain": [
       "\n",
       "               Calcium     Calories        Carbs  Cholesterol       Copper  \\\n",
       "count  1149.000000  1174.000000  1174.000000  1119.000000  1094.000000   \n",
       "mean      0.099660   224.412266    25.049940     0.030845     0.000217   \n",
       "std       0.264301   185.838852    27.222293     0.085214     0.000565   \n",
       "min       0.000000     0.000000     0.000000     0.000000     0.000000   \n",
       "25%       0.012000    72.000000     3.600000     0.000000     0.000050   \n",
       "50%       0.031000   179.000000    13.000000     0.000000     0.000100   \n",
       "75%       0.089000   341.750000    44.750000     0.033500     0.000200   \n",
       "max       5.876000   902.000000   100.000000     1.085000     0.014000   \n",
       "\n",
       "              Fats        Fiber       Folate         Iron    Magnesium  ...  \\\n",
       "count  1174.000000  1076.000000  1071.000000  1153.000000  1113.000000  ...   \n",
       "mean     10.541371     3.123885     0.000053     0.002870     0.041921  ...   \n",
       "std      18.179044     6.383304     0.000135     0.007132     0.068221  ...   \n",
       "min       0.000000     0.000000     0.000000     0.000000     0.000000  ...   \n",
       "25%       0.380000     0.000000     0.000005     0.000380     0.011000  ...   \n",
       "50%       3.000000     1.300000     0.000017     0.001000     0.021000  ...   \n",
       "75%      14.000000     3.200000     0.000053     0.002500     0.041000  ...   \n",
       "max     100.000000    70.000000     0.002340     0.124000     0.770000  ...   \n",
       "\n",
       "          Vitamin D   Vitamin E     Vitamin K  Omega-3 - ALA  \\\n",
       "count  8.290000e+02  816.000000  7.910000e+02     176.000000   \n",
       "mean   7.752714e-07    0.001692  2.857535e-05       0.675227   \n",
       "std    8.890438e-06    0.006870  1.312185e-04       3.985335   \n",
       "min    0.000000e+00    0.000000  0.000000e+00       0.000000   \n",
       "25%    0.000000e+00    0.000110  2.000000e-07       0.040000   \n",
       "50%    0.000000e+00    0.000350  1.800000e-06       0.120000   \n",
       "75%    0.000000e+00    0.000923  7.950000e-06       0.272500   \n",
       "max    2.500000e-04    0.149000  1.715000e-03      49.000000   \n",
       "\n",
       "       Omega-6 - Eicosadienoic acid  Omega-6 - Gamma-linoleic acid  \\\n",
       "count                    265.000000                     170.000000   \n",
       "mean                       0.009321                       0.008118   \n",
       "std                        0.031290                       0.016853   \n",
       "min                        0.000000                       0.000000   \n",
       "25%                        0.000000                       0.000000   \n",
       "50%                        0.000000                       0.000000   \n",
       "75%                        0.010000                       0.010000   \n",
       "max                        0.400000                       0.130000   \n",
       "\n",
       "       Omega-3 - Eicosatrienoic acid  Omega-6 - Dihomo-gamma-linoleic acid  \\\n",
       "count                     114.000000                            119.000000   \n",
       "mean                        0.001491                              0.005882   \n",
       "std                         0.008118                              0.008773   \n",
       "min                         0.000000                              0.000000   \n",
       "25%                         0.000000                              0.000000   \n",
       "50%                         0.000000                              0.000000   \n",
       "75%                         0.000000                              0.010000   \n",
       "max                         0.080000                              0.040000   \n",
       "\n",
       "       Omega-6 - Linoleic acid  Omega-6 - Arachidonic acid  \n",
       "count               141.000000                        1.00  \n",
       "mean                  3.688936                        0.02  \n",
       "std                   5.342108                         NaN  \n",
       "min                   0.010000                        0.02  \n",
       "25%                   0.620000                        0.02  \n",
       "50%                   1.800000                        0.02  \n",
       "75%                   4.700000                        0.02  \n",
       "max                  39.000000                        0.02  \n",
       "\n",
       "[8 rows x 57 columns]\n",
       "    "
      ]
     },
     "execution_count": 2,
     "metadata": {},
     "output_type": "execute_result"
    }
   ],
   "source": [
    "from dataquality import DataQuality\n",
    "\n",
    "df = DataQuality('foodstruct_nutritional_facts.csv')\n",
    "\n",
    "df"
   ]
  }
 ],
 "metadata": {
  "kernelspec": {
   "display_name": ".venv",
   "language": "python",
   "name": "python3"
  },
  "language_info": {
   "codemirror_mode": {
    "name": "ipython",
    "version": 3
   },
   "file_extension": ".py",
   "mimetype": "text/x-python",
   "name": "python",
   "nbconvert_exporter": "python",
   "pygments_lexer": "ipython3",
   "version": "3.12.3"
  }
 },
 "nbformat": 4,
 "nbformat_minor": 2
}
